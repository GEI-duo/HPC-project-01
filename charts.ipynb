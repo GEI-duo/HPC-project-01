{
 "cells": [
  {
   "cell_type": "code",
   "execution_count": 2,
   "metadata": {},
   "outputs": [],
   "source": [
    "import pandas as pd\n",
    "from pathlib import Path"
   ]
  },
  {
   "cell_type": "code",
   "execution_count": 13,
   "metadata": {},
   "outputs": [
    {
     "data": {
      "text/html": [
       "<div>\n",
       "<style scoped>\n",
       "    .dataframe tbody tr th:only-of-type {\n",
       "        vertical-align: middle;\n",
       "    }\n",
       "\n",
       "    .dataframe tbody tr th {\n",
       "        vertical-align: top;\n",
       "    }\n",
       "\n",
       "    .dataframe thead th {\n",
       "        text-align: right;\n",
       "    }\n",
       "</style>\n",
       "<table border=\"1\" class=\"dataframe\">\n",
       "  <thead>\n",
       "    <tr style=\"text-align: right;\">\n",
       "      <th></th>\n",
       "      <th>program</th>\n",
       "      <th>threads</th>\n",
       "      <th>steps</th>\n",
       "      <th>size</th>\n",
       "      <th>time(s)</th>\n",
       "    </tr>\n",
       "  </thead>\n",
       "  <tbody>\n",
       "    <tr>\n",
       "      <th>0</th>\n",
       "      <td>omp</td>\n",
       "      <td>1</td>\n",
       "      <td>100000</td>\n",
       "      <td>1000</td>\n",
       "      <td>1331.956969</td>\n",
       "    </tr>\n",
       "    <tr>\n",
       "      <th>1</th>\n",
       "      <td>omp</td>\n",
       "      <td>1</td>\n",
       "      <td>100000</td>\n",
       "      <td>100</td>\n",
       "      <td>12.819621</td>\n",
       "    </tr>\n",
       "    <tr>\n",
       "      <th>2</th>\n",
       "      <td>omp</td>\n",
       "      <td>1</td>\n",
       "      <td>100000</td>\n",
       "      <td>2000</td>\n",
       "      <td>5374.222172</td>\n",
       "    </tr>\n",
       "    <tr>\n",
       "      <th>3</th>\n",
       "      <td>omp</td>\n",
       "      <td>1</td>\n",
       "      <td>10000</td>\n",
       "      <td>1000</td>\n",
       "      <td>135.606736</td>\n",
       "    </tr>\n",
       "    <tr>\n",
       "      <th>4</th>\n",
       "      <td>omp</td>\n",
       "      <td>1</td>\n",
       "      <td>10000</td>\n",
       "      <td>100</td>\n",
       "      <td>1.296468</td>\n",
       "    </tr>\n",
       "    <tr>\n",
       "      <th>...</th>\n",
       "      <td>...</td>\n",
       "      <td>...</td>\n",
       "      <td>...</td>\n",
       "      <td>...</td>\n",
       "      <td>...</td>\n",
       "    </tr>\n",
       "    <tr>\n",
       "      <th>91</th>\n",
       "      <td>serial</td>\n",
       "      <td>8</td>\n",
       "      <td>1000</td>\n",
       "      <td>100</td>\n",
       "      <td>0.110000</td>\n",
       "    </tr>\n",
       "    <tr>\n",
       "      <th>92</th>\n",
       "      <td>serial</td>\n",
       "      <td>8</td>\n",
       "      <td>1000</td>\n",
       "      <td>2000</td>\n",
       "      <td>48.630000</td>\n",
       "    </tr>\n",
       "    <tr>\n",
       "      <th>93</th>\n",
       "      <td>serial</td>\n",
       "      <td>8</td>\n",
       "      <td>100</td>\n",
       "      <td>1000</td>\n",
       "      <td>1.430000</td>\n",
       "    </tr>\n",
       "    <tr>\n",
       "      <th>94</th>\n",
       "      <td>serial</td>\n",
       "      <td>8</td>\n",
       "      <td>100</td>\n",
       "      <td>100</td>\n",
       "      <td>0.010000</td>\n",
       "    </tr>\n",
       "    <tr>\n",
       "      <th>95</th>\n",
       "      <td>serial</td>\n",
       "      <td>8</td>\n",
       "      <td>100</td>\n",
       "      <td>2000</td>\n",
       "      <td>5.380000</td>\n",
       "    </tr>\n",
       "  </tbody>\n",
       "</table>\n",
       "<p>96 rows × 5 columns</p>\n",
       "</div>"
      ],
      "text/plain": [
       "   program  threads   steps  size      time(s)\n",
       "0      omp        1  100000  1000  1331.956969\n",
       "1      omp        1  100000   100    12.819621\n",
       "2      omp        1  100000  2000  5374.222172\n",
       "3      omp        1   10000  1000   135.606736\n",
       "4      omp        1   10000   100     1.296468\n",
       "..     ...      ...     ...   ...          ...\n",
       "91  serial        8    1000   100     0.110000\n",
       "92  serial        8    1000  2000    48.630000\n",
       "93  serial        8     100  1000     1.430000\n",
       "94  serial        8     100   100     0.010000\n",
       "95  serial        8     100  2000     5.380000\n",
       "\n",
       "[96 rows x 5 columns]"
      ]
     },
     "execution_count": 13,
     "metadata": {},
     "output_type": "execute_result"
    }
   ],
   "source": [
    "DATA = Path(\"./results.csv\")\n",
    "df = pd.read_csv(DATA, sep=\"\\t\")\n",
    "df"
   ]
  },
  {
   "cell_type": "code",
   "execution_count": 33,
   "metadata": {},
   "outputs": [
    {
     "name": "stderr",
     "output_type": "stream",
     "text": [
      "/tmp/ipykernel_162170/772158301.py:1: UserWarning: Boolean Series key will be reindexed to match DataFrame index.\n",
      "  df[df[\"program\"] == \"serial\"][df[\"threads\"] == 1].sort_values([\"size\", \"steps\"]).to_csv(\"results-serial.csv\", index=False)\n"
     ]
    }
   ],
   "source": [
    "df[df[\"program\"] == \"serial\"][df[\"threads\"] == 1].sort_values([\"size\", \"steps\"]).to_csv(\"results-serial.csv\", index=False)"
   ]
  },
  {
   "cell_type": "code",
   "execution_count": 37,
   "metadata": {},
   "outputs": [
    {
     "name": "stderr",
     "output_type": "stream",
     "text": [
      "/tmp/ipykernel_162170/4068299367.py:2: UserWarning: Boolean Series key will be reindexed to match DataFrame index.\n",
      "  df[df[\"program\"] == \"omp\"][df[\"threads\"] == thread].sort_values([\"threads\", \"size\", \"steps\"]).to_csv(f\"results-omp-t{thread}.csv\", index=False)\n",
      "/tmp/ipykernel_162170/4068299367.py:2: UserWarning: Boolean Series key will be reindexed to match DataFrame index.\n",
      "  df[df[\"program\"] == \"omp\"][df[\"threads\"] == thread].sort_values([\"threads\", \"size\", \"steps\"]).to_csv(f\"results-omp-t{thread}.csv\", index=False)\n",
      "/tmp/ipykernel_162170/4068299367.py:2: UserWarning: Boolean Series key will be reindexed to match DataFrame index.\n",
      "  df[df[\"program\"] == \"omp\"][df[\"threads\"] == thread].sort_values([\"threads\", \"size\", \"steps\"]).to_csv(f\"results-omp-t{thread}.csv\", index=False)\n",
      "/tmp/ipykernel_162170/4068299367.py:2: UserWarning: Boolean Series key will be reindexed to match DataFrame index.\n",
      "  df[df[\"program\"] == \"omp\"][df[\"threads\"] == thread].sort_values([\"threads\", \"size\", \"steps\"]).to_csv(f\"results-omp-t{thread}.csv\", index=False)\n"
     ]
    }
   ],
   "source": [
    "for thread in [1, 2, 4, 8]:\n",
    "    df[df[\"program\"] == \"omp\"][df[\"threads\"] == thread].sort_values([\"threads\", \"size\", \"steps\"]).to_csv(f\"results-omp-t{thread}.csv\", index=False)"
   ]
  },
  {
   "cell_type": "code",
   "execution_count": 35,
   "metadata": {},
   "outputs": [
    {
     "name": "stderr",
     "output_type": "stream",
     "text": [
      "/tmp/ipykernel_162170/1905106454.py:2: UserWarning: Boolean Series key will be reindexed to match DataFrame index.\n",
      "  df[df[\"program\"] == \"omp\"][df[\"size\"] == size].sort_values([\"threads\", \"size\", \"steps\"]).to_csv(f\"results-omp-{size}.csv\", index=False)\n",
      "/tmp/ipykernel_162170/1905106454.py:2: UserWarning: Boolean Series key will be reindexed to match DataFrame index.\n",
      "  df[df[\"program\"] == \"omp\"][df[\"size\"] == size].sort_values([\"threads\", \"size\", \"steps\"]).to_csv(f\"results-omp-{size}.csv\", index=False)\n",
      "/tmp/ipykernel_162170/1905106454.py:2: UserWarning: Boolean Series key will be reindexed to match DataFrame index.\n",
      "  df[df[\"program\"] == \"omp\"][df[\"size\"] == size].sort_values([\"threads\", \"size\", \"steps\"]).to_csv(f\"results-omp-{size}.csv\", index=False)\n"
     ]
    }
   ],
   "source": [
    "for size in [100, 1000, 2000]:\n",
    "    df[df[\"program\"] == \"omp\"][df[\"size\"] == size].sort_values([\"threads\", \"size\", \"steps\"]).to_csv(f\"results-omp-{size}.csv\", index=False)"
   ]
  },
  {
   "cell_type": "code",
   "execution_count": 48,
   "metadata": {},
   "outputs": [],
   "source": [
    "df = pd.read_csv(\"./temp.csv\", sep=\"\\t\", index_col=0)\n",
    "df.T.to_csv(\"res-temp.csv\", sep=\"\\t\")"
   ]
  },
  {
   "cell_type": "code",
   "execution_count": null,
   "metadata": {},
   "outputs": [],
   "source": []
  }
 ],
 "metadata": {
  "kernelspec": {
   "display_name": ".venv",
   "language": "python",
   "name": "python3"
  },
  "language_info": {
   "codemirror_mode": {
    "name": "ipython",
    "version": 3
   },
   "file_extension": ".py",
   "mimetype": "text/x-python",
   "name": "python",
   "nbconvert_exporter": "python",
   "pygments_lexer": "ipython3",
   "version": "3.13.2"
  }
 },
 "nbformat": 4,
 "nbformat_minor": 2
}
